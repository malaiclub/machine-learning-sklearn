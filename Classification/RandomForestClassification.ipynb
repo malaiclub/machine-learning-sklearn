{
 "cells": [
  {
   "cell_type": "code",
   "execution_count": 10,
   "metadata": {
    "collapsed": true
   },
   "outputs": [],
   "source": [
    "#Random Forest Classifier\n",
    "#https://en.wikipedia.org/wiki/Random_forest"
   ]
  },
  {
   "cell_type": "code",
   "execution_count": 11,
   "metadata": {
    "collapsed": true
   },
   "outputs": [],
   "source": [
    "#Basic Requirements\n",
    "import numpy as np\n",
    "import matplotlib.pyplot as plt\n",
    "import pandas as pd"
   ]
  },
  {
   "cell_type": "code",
   "execution_count": 12,
   "metadata": {
    "collapsed": true
   },
   "outputs": [],
   "source": [
    "#Where's my data?\n",
    "data = pd.read_csv('winequality-red.csv')\n",
    "X = data.iloc[:, :-1]\n",
    "y = data.iloc[:, 11]"
   ]
  },
  {
   "cell_type": "code",
   "execution_count": 13,
   "metadata": {
    "collapsed": false
   },
   "outputs": [],
   "source": [
    "#Split into Training and Testing set\n",
    "from sklearn.cross_validation import train_test_split\n",
    "X_train, X_test, y_train, y_test = train_test_split(X, y, test_size = 0.20, random_state = 0)"
   ]
  },
  {
   "cell_type": "code",
   "execution_count": 14,
   "metadata": {
    "collapsed": true
   },
   "outputs": [],
   "source": [
    "#Scale it\n",
    "from sklearn.preprocessing import StandardScaler\n",
    "sc = StandardScaler()\n",
    "X_train = sc.fit_transform(X_train)\n",
    "X_test = sc.transform(X_test)"
   ]
  },
  {
   "cell_type": "code",
   "execution_count": 15,
   "metadata": {
    "collapsed": false
   },
   "outputs": [
    {
     "data": {
      "text/plain": [
       "RandomForestClassifier(bootstrap=True, class_weight=None, criterion='entropy',\n",
       "            max_depth=None, max_features='auto', max_leaf_nodes=None,\n",
       "            min_impurity_split=1e-07, min_samples_leaf=1,\n",
       "            min_samples_split=2, min_weight_fraction_leaf=0.0,\n",
       "            n_estimators=1000, n_jobs=1, oob_score=False, random_state=0,\n",
       "            verbose=0, warm_start=False)"
      ]
     },
     "execution_count": 15,
     "metadata": {},
     "output_type": "execute_result"
    }
   ],
   "source": [
    "#Train the Ninja\n",
    "from sklearn.ensemble import RandomForestClassifier\n",
    "c = RandomForestClassifier(n_estimators = 1000, criterion = 'entropy', random_state = 0)\n",
    "c.fit(X_train, y_train)"
   ]
  },
  {
   "cell_type": "code",
   "execution_count": 16,
   "metadata": {
    "collapsed": false
   },
   "outputs": [
    {
     "name": "stdout",
     "output_type": "stream",
     "text": [
      "[5 5 7 5 5 6 5 6 5 5 5 5 6 6 6 7 7 5 5 5 6 5 6 6 5 5 5 7 5 6 6 6 6 5 7 7 5\n",
      " 6 6 6 5 6 6 7 6 5 5 6 5 6 5 5 6 6 6 5 5 5 7 5 5 6 6 6 5 6 5 5 7 6 6 5 5 5\n",
      " 6 6 5 5 5 7 6 5 6 6 6 5 6 5 5 5 5 6 6 5 6 6 6 5 5 5 7 6 6 6 5 5 5 5 6 5 6\n",
      " 5 8 5 6 6 6 7 6 6 5 6 5 5 6 7 5 5 6 6 6 5 6 6 6 5 6 5 6 5 6 5 5 5 5 6 8 6\n",
      " 5 5 6 5 5 5 6 6 6 5 6 6 6 6 7 5 5 5 6 6 6 6 6 6 5 7 5 6 5 7 7 5 5 7 6 6 6\n",
      " 5 6 6 5 5 6 5 5 6 5 5 5 5 5 5 5 6 6 6 5 5 5 6 6 6 6 6 5 6 5 6 5 6 6 5 5 6\n",
      " 6 5 6 6 6 6 6 5 5 6 5 5 6 6 6 7 7 6 5 6 5 5 6 5 5 5 5 6 5 5 5 5 5 6 5 5 5\n",
      " 7 5 6 5 6 5 5 5 5 5 6 5 5 5 6 6 6 6 6 6 7 5 7 5 6 6 5 5 5 7 6 5 5 6 6 5 6\n",
      " 6 5 5 5 6 5 6 6 6 6 6 5 5 5 5 6 5 5 5 6 6 7 5 7]\n"
     ]
    }
   ],
   "source": [
    "#Test the Ninja\n",
    "lr_y_pred = c.predict(X_test)\n",
    "print(lr_y_pred)"
   ]
  },
  {
   "cell_type": "code",
   "execution_count": 18,
   "metadata": {
    "collapsed": false
   },
   "outputs": [
    {
     "name": "stdout",
     "output_type": "stream",
     "text": [
      "Total Length:  320\n",
      "Total right Predictions:  232\n"
     ]
    }
   ],
   "source": [
    "#Evaluate the Results\n",
    "def rightCheck(y_test2, lr_y_pred):\n",
    "    got_right = 0\n",
    "    for i in range(len(y_test)):\n",
    "        if(y_test2[i]==lr_y_pred[i]):\n",
    "            got_right = got_right + 1\n",
    "    return got_right\n",
    "            \n",
    "print(\"Total Length: \", len(y_test))\n",
    "print(\"Total right Predictions: \", rightCheck(y_test.values, lr_y_pred))"
   ]
  }
 ],
 "metadata": {
  "kernelspec": {
   "display_name": "Python 3",
   "language": "python",
   "name": "python3"
  },
  "language_info": {
   "codemirror_mode": {
    "name": "ipython",
    "version": 3
   },
   "file_extension": ".py",
   "mimetype": "text/x-python",
   "name": "python",
   "nbconvert_exporter": "python",
   "pygments_lexer": "ipython3",
   "version": "3.6.0"
  }
 },
 "nbformat": 4,
 "nbformat_minor": 2
}

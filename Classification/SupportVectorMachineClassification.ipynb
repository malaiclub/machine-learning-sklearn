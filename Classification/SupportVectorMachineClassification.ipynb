{
 "cells": [
  {
   "cell_type": "code",
   "execution_count": 1,
   "metadata": {
    "collapsed": true
   },
   "outputs": [],
   "source": [
    "#Kernel SVM\n",
    "#https://en.wikipedia.org/wiki/Support_vector_machine"
   ]
  },
  {
   "cell_type": "code",
   "execution_count": 2,
   "metadata": {
    "collapsed": true
   },
   "outputs": [],
   "source": [
    "#Basic Requirements\n",
    "import numpy as np\n",
    "import matplotlib.pyplot as plt\n",
    "import pandas as pd"
   ]
  },
  {
   "cell_type": "code",
   "execution_count": 3,
   "metadata": {
    "collapsed": true
   },
   "outputs": [],
   "source": [
    "#Where's the data\n",
    "data = pd.read_csv('winequality-red.csv')\n",
    "X = data.iloc[:, :-1]\n",
    "y = data.iloc[:, 11]"
   ]
  },
  {
   "cell_type": "code",
   "execution_count": 4,
   "metadata": {
    "collapsed": false
   },
   "outputs": [
    {
     "name": "stderr",
     "output_type": "stream",
     "text": [
      "C:\\Users\\arjun\\Anaconda3\\lib\\site-packages\\sklearn\\cross_validation.py:44: DeprecationWarning: This module was deprecated in version 0.18 in favor of the model_selection module into which all the refactored classes and functions are moved. Also note that the interface of the new CV iterators are different from that of this module. This module will be removed in 0.20.\n",
      "  \"This module will be removed in 0.20.\", DeprecationWarning)\n"
     ]
    }
   ],
   "source": [
    "#Train the Ninja\n",
    "from sklearn.cross_validation import train_test_split\n",
    "X_train, X_test, y_train, y_test = train_test_split(X, y, test_size = 0.20, random_state = 0)"
   ]
  },
  {
   "cell_type": "code",
   "execution_count": 5,
   "metadata": {
    "collapsed": true
   },
   "outputs": [],
   "source": [
    "#Scale the Data\n",
    "from sklearn.preprocessing import StandardScaler\n",
    "sc = StandardScaler()\n",
    "X_train = sc.fit_transform(X_train)\n",
    "X_test = sc.transform(X_test)"
   ]
  },
  {
   "cell_type": "code",
   "execution_count": 6,
   "metadata": {
    "collapsed": false
   },
   "outputs": [
    {
     "data": {
      "text/plain": [
       "SVC(C=1.0, cache_size=200, class_weight=None, coef0=0.0,\n",
       "  decision_function_shape=None, degree=3, gamma='auto', kernel='rbf',\n",
       "  max_iter=-1, probability=False, random_state=0, shrinking=True,\n",
       "  tol=0.001, verbose=False)"
      ]
     },
     "execution_count": 6,
     "metadata": {},
     "output_type": "execute_result"
    }
   ],
   "source": [
    "#Train the Ninja\n",
    "from sklearn.svm import SVC\n",
    "c = SVC(kernel = 'rbf', random_state = 0)\n",
    "c.fit(X_train, y_train)"
   ]
  },
  {
   "cell_type": "code",
   "execution_count": 8,
   "metadata": {
    "collapsed": false
   },
   "outputs": [
    {
     "name": "stdout",
     "output_type": "stream",
     "text": [
      "[5 5 7 5 6 5 5 6 5 5 5 6 5 6 6 6 7 5 6 5 6 5 6 6 5 5 5 6 5 6 6 6 6 5 6 6 5\n",
      " 6 6 6 5 6 6 7 6 5 5 6 5 6 5 5 6 6 6 5 5 5 7 6 5 6 6 6 5 6 5 5 6 6 5 5 5 5\n",
      " 6 6 5 5 5 6 6 5 6 6 6 6 6 5 5 5 5 5 5 5 6 5 6 5 5 6 7 6 6 6 5 5 5 5 6 5 6\n",
      " 5 6 5 6 6 6 7 6 6 5 6 5 5 6 7 5 5 6 7 5 5 6 6 6 5 6 5 6 5 6 5 5 5 5 6 6 7\n",
      " 6 5 6 6 5 5 6 6 5 5 6 6 6 6 6 5 6 5 6 6 5 6 6 6 5 7 6 6 7 7 6 5 5 7 6 6 6\n",
      " 5 6 6 5 6 6 5 6 5 5 5 5 5 5 5 5 6 5 5 5 5 5 6 6 5 6 6 5 6 5 6 6 6 6 5 5 6\n",
      " 6 6 6 6 6 5 6 5 5 6 5 5 6 6 6 7 6 6 5 6 5 5 6 5 6 5 5 6 5 5 5 5 5 6 5 5 5\n",
      " 6 5 6 5 6 5 5 5 5 6 6 5 6 5 6 6 6 6 5 6 7 5 7 6 6 6 5 5 5 6 6 6 6 6 6 5 6\n",
      " 6 5 5 5 6 5 5 5 6 6 5 5 5 5 5 6 5 5 5 6 6 6 5 6]\n"
     ]
    }
   ],
   "source": [
    "#Test the Ninja\n",
    "lr_y_pred = c.predict(X_test)\n",
    "print(lr_y_pred)"
   ]
  },
  {
   "cell_type": "code",
   "execution_count": 9,
   "metadata": {
    "collapsed": false
   },
   "outputs": [
    {
     "name": "stdout",
     "output_type": "stream",
     "text": [
      "Total Length:  320\n",
      "Total right Predictions:  206\n"
     ]
    }
   ],
   "source": [
    "#Evaluate the Result\n",
    "def rightCheck(y_test2, lr_y_pred):\n",
    "    got_right = 0\n",
    "    for i in range(len(y_test)):\n",
    "        if(y_test2[i]==lr_y_pred[i]):\n",
    "            got_right = got_right + 1\n",
    "    return got_right\n",
    "            \n",
    "print(\"Total Length: \", len(y_test))\n",
    "print(\"Total right Predictions: \", rightCheck(y_test.values, lr_y_pred))"
   ]
  }
 ],
 "metadata": {
  "kernelspec": {
   "display_name": "Python 3",
   "language": "python",
   "name": "python3"
  },
  "language_info": {
   "codemirror_mode": {
    "name": "ipython",
    "version": 3
   },
   "file_extension": ".py",
   "mimetype": "text/x-python",
   "name": "python",
   "nbconvert_exporter": "python",
   "pygments_lexer": "ipython3",
   "version": "3.6.0"
  }
 },
 "nbformat": 4,
 "nbformat_minor": 2
}

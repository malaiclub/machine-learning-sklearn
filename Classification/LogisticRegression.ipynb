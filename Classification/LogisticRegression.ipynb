{
 "cells": [
  {
   "cell_type": "code",
   "execution_count": 10,
   "metadata": {
    "collapsed": true
   },
   "outputs": [],
   "source": [
    "#LogisticRegression\n",
    "#https://en.wikipedia.org/wiki/Logistic_regression"
   ]
  },
  {
   "cell_type": "code",
   "execution_count": 11,
   "metadata": {
    "collapsed": true
   },
   "outputs": [],
   "source": [
    "#Basic Requirements\n",
    "import numpy as np\n",
    "import matplotlib.pyplot as plt\n",
    "import pandas as pd"
   ]
  },
  {
   "cell_type": "code",
   "execution_count": 12,
   "metadata": {
    "collapsed": true
   },
   "outputs": [],
   "source": [
    "#Where's the Data?\n",
    "data = pd.read_csv('winequality-red.csv')\n",
    "X = data.iloc[:, :-1]\n",
    "y = data.iloc[:, 11]"
   ]
  },
  {
   "cell_type": "code",
   "execution_count": 13,
   "metadata": {
    "collapsed": false
   },
   "outputs": [],
   "source": [
    "#Split the Data to Train and Test\n",
    "from sklearn.cross_validation import train_test_split\n",
    "X_train, X_test, y_train, y_test = train_test_split(X, y, test_size = 0.20, random_state = 0)"
   ]
  },
  {
   "cell_type": "code",
   "execution_count": 14,
   "metadata": {
    "collapsed": true
   },
   "outputs": [],
   "source": [
    "#Scale for Results\n",
    "from sklearn.preprocessing import StandardScaler\n",
    "sc = StandardScaler()\n",
    "X_train = sc.fit_transform(X_train)\n",
    "X_test = sc.transform(X_test)"
   ]
  },
  {
   "cell_type": "code",
   "execution_count": 15,
   "metadata": {
    "collapsed": false
   },
   "outputs": [
    {
     "data": {
      "text/plain": [
       "LogisticRegression(C=1.0, class_weight=None, dual=False, fit_intercept=True,\n",
       "          intercept_scaling=1, max_iter=100, multi_class='ovr', n_jobs=1,\n",
       "          penalty='l2', random_state=0, solver='liblinear', tol=0.0001,\n",
       "          verbose=0, warm_start=False)"
      ]
     },
     "execution_count": 15,
     "metadata": {},
     "output_type": "execute_result"
    }
   ],
   "source": [
    "#Train the Ninja\n",
    "from sklearn.linear_model import LogisticRegression\n",
    "c = LogisticRegression(random_state = 0)\n",
    "c.fit(X_train, y_train)"
   ]
  },
  {
   "cell_type": "code",
   "execution_count": 16,
   "metadata": {
    "collapsed": false
   },
   "outputs": [
    {
     "name": "stdout",
     "output_type": "stream",
     "text": [
      "[6 5 7 5 6 5 5 6 5 5 5 5 6 5 6 6 7 6 6 5 6 5 6 7 5 5 5 6 5 7 6 6 6 5 6 6 5\n",
      " 6 6 6 5 6 7 7 6 5 5 6 5 6 5 5 6 6 6 5 5 5 7 5 5 6 6 6 5 6 5 6 6 6 5 5 5 5\n",
      " 5 6 5 5 5 6 5 5 6 6 6 5 7 5 5 5 5 5 6 5 6 5 6 5 5 6 7 6 6 6 5 5 5 5 6 5 6\n",
      " 5 6 5 6 6 6 7 6 6 5 6 5 5 6 6 5 5 6 6 5 5 6 6 7 5 6 5 6 5 6 5 5 5 6 6 6 7\n",
      " 6 5 6 6 5 6 6 6 5 5 6 6 6 6 6 5 6 5 6 7 5 6 6 5 5 7 6 6 6 7 6 5 5 7 5 6 7\n",
      " 5 6 6 5 6 6 6 5 5 5 5 5 5 5 5 5 6 5 5 5 5 5 6 6 5 6 5 5 6 5 6 6 6 6 5 5 6\n",
      " 6 5 5 6 6 6 5 5 5 6 5 6 6 6 6 7 6 6 5 5 5 5 6 5 5 5 5 7 5 5 5 5 6 5 5 5 5\n",
      " 5 5 7 5 5 5 5 5 5 6 6 5 6 5 6 6 6 6 5 7 6 5 7 6 6 6 5 5 5 6 6 6 6 6 5 5 6\n",
      " 5 5 5 5 6 5 5 5 6 6 5 5 5 5 5 6 5 5 5 7 6 6 5 6]\n"
     ]
    }
   ],
   "source": [
    "#Take the Test!\n",
    "lr_y_pred = c.predict(X_test)\n",
    "print(lr_y_pred)"
   ]
  },
  {
   "cell_type": "code",
   "execution_count": 17,
   "metadata": {
    "collapsed": false
   },
   "outputs": [
    {
     "name": "stdout",
     "output_type": "stream",
     "text": [
      "Total Length:  320\n",
      "Total right Predictions:  201\n"
     ]
    }
   ],
   "source": [
    "#Evaluate the results\n",
    "def rightCheck(y_test2, lr_y_pred):\n",
    "    got_right = 0\n",
    "    for i in range(len(y_test)):\n",
    "        if(y_test2[i]==lr_y_pred[i]):\n",
    "            got_right = got_right + 1\n",
    "    return got_right\n",
    "            \n",
    "print(\"Total Length: \", len(y_test))\n",
    "print(\"Total right Predictions: \", rightCheck(y_test.values, lr_y_pred))"
   ]
  },
  {
   "cell_type": "code",
   "execution_count": null,
   "metadata": {
    "collapsed": true
   },
   "outputs": [],
   "source": []
  }
 ],
 "metadata": {
  "kernelspec": {
   "display_name": "Python 3",
   "language": "python",
   "name": "python3"
  },
  "language_info": {
   "codemirror_mode": {
    "name": "ipython",
    "version": 3
   },
   "file_extension": ".py",
   "mimetype": "text/x-python",
   "name": "python",
   "nbconvert_exporter": "python",
   "pygments_lexer": "ipython3",
   "version": "3.6.0"
  }
 },
 "nbformat": 4,
 "nbformat_minor": 2
}

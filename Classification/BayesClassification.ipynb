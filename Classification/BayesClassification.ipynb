{
 "cells": [
  {
   "cell_type": "code",
   "execution_count": 19,
   "metadata": {
    "collapsed": true
   },
   "outputs": [],
   "source": [
    "#Naive Bayes Algorithm\n",
    "#https://en.wikipedia.org/wiki/Bayes%27_theorem"
   ]
  },
  {
   "cell_type": "code",
   "execution_count": 20,
   "metadata": {
    "collapsed": true
   },
   "outputs": [],
   "source": [
    "#Basic Libraries needed. As Always\n",
    "import numpy as np\n",
    "import matplotlib.pyplot as plt\n",
    "import pandas as pd"
   ]
  },
  {
   "cell_type": "code",
   "execution_count": 21,
   "metadata": {
    "collapsed": true
   },
   "outputs": [],
   "source": [
    "#Where's the data?\n",
    "data = pd.read_csv('winequality-red.csv')\n",
    "#Split into X and y\n",
    "X = data.iloc[:, :-1]\n",
    "y = data.iloc[:, 11]"
   ]
  },
  {
   "cell_type": "code",
   "execution_count": 22,
   "metadata": {
    "collapsed": false
   },
   "outputs": [],
   "source": [
    "#Split into Train and Test Datasets\n",
    "from sklearn.cross_validation import train_test_split\n",
    "X_train, X_test, y_train, y_test = train_test_split(X, y, test_size = 0.20, random_state = 0)"
   ]
  },
  {
   "cell_type": "code",
   "execution_count": 23,
   "metadata": {
    "collapsed": true
   },
   "outputs": [],
   "source": [
    "#Scaling to fit\n",
    "from sklearn.preprocessing import StandardScaler\n",
    "sc = StandardScaler()\n",
    "X_train = sc.fit_transform(X_train)\n",
    "X_test = sc.transform(X_test)"
   ]
  },
  {
   "cell_type": "code",
   "execution_count": 24,
   "metadata": {
    "collapsed": false
   },
   "outputs": [
    {
     "data": {
      "text/plain": [
       "GaussianNB(priors=None)"
      ]
     },
     "execution_count": 24,
     "metadata": {},
     "output_type": "execute_result"
    }
   ],
   "source": [
    "#Train the Ninja\n",
    "from sklearn.naive_bayes import GaussianNB\n",
    "c = GaussianNB()\n",
    "c.fit(X_train, y_train)"
   ]
  },
  {
   "cell_type": "code",
   "execution_count": 25,
   "metadata": {
    "collapsed": false
   },
   "outputs": [
    {
     "name": "stdout",
     "output_type": "stream",
     "text": [
      "[5 5 7 5 7 5 5 6 5 5 5 5 6 4 6 7 7 6 6 5 6 5 6 6 6 5 5 7 5 6 6 6 6 5 6 7 5\n",
      " 6 8 6 5 6 8 7 6 5 6 6 6 7 6 6 6 7 6 5 5 5 7 5 5 6 6 6 5 6 5 7 6 6 5 4 5 5\n",
      " 5 8 5 5 5 7 6 5 6 6 6 5 6 5 5 5 5 5 6 5 7 5 7 6 5 6 7 6 6 7 6 5 6 5 6 5 6\n",
      " 5 7 5 6 6 6 7 6 6 5 6 4 5 8 7 5 5 6 7 5 5 6 6 7 5 7 4 7 6 6 5 6 6 5 6 7 7\n",
      " 6 6 6 6 5 5 6 5 6 5 6 6 6 6 7 5 7 5 6 7 5 6 7 6 5 7 6 7 6 7 6 5 5 8 5 7 8\n",
      " 5 5 6 5 6 6 6 5 5 5 5 5 5 5 5 5 6 5 5 5 5 5 7 6 5 6 7 4 7 5 5 6 6 6 5 5 6\n",
      " 7 6 5 7 7 6 5 6 5 6 3 6 7 6 7 7 8 7 5 4 5 5 6 5 6 5 4 7 5 5 5 5 6 6 5 5 5\n",
      " 6 5 8 5 6 5 5 6 5 5 7 6 6 6 8 7 6 7 5 7 7 5 7 6 7 6 5 6 5 7 6 6 4 6 5 5 6\n",
      " 5 6 5 5 6 3 6 6 6 6 3 5 5 6 5 6 6 6 5 7 6 7 5 7]\n"
     ]
    }
   ],
   "source": [
    "#Test the Ninja!\n",
    "\n",
    "#Predict from the test data set\n",
    "lr_y_pred = c.predict(X_test)\n",
    "print(lr_y_pred)\n"
   ]
  },
  {
   "cell_type": "code",
   "execution_count": 26,
   "metadata": {
    "collapsed": false
   },
   "outputs": [
    {
     "name": "stdout",
     "output_type": "stream",
     "text": [
      "Total Length:  320\n",
      "Total right Predictions:  173\n"
     ]
    }
   ],
   "source": [
    "#Evaluate the Results!\n",
    "def rightCheck(y_test2, lr_y_pred):\n",
    "    got_right = 0\n",
    "    for i in range(len(y_test)):\n",
    "        if(y_test2[i]==lr_y_pred[i]):\n",
    "            got_right = got_right + 1\n",
    "    return got_right\n",
    "            \n",
    "print(\"Total Length: \", len(y_test))\n",
    "print(\"Total right Predictions: \", rightCheck(y_test.values, lr_y_pred))"
   ]
  },
  {
   "cell_type": "code",
   "execution_count": null,
   "metadata": {
    "collapsed": true
   },
   "outputs": [],
   "source": []
  }
 ],
 "metadata": {
  "kernelspec": {
   "display_name": "Python 3",
   "language": "python",
   "name": "python3"
  },
  "language_info": {
   "codemirror_mode": {
    "name": "ipython",
    "version": 3
   },
   "file_extension": ".py",
   "mimetype": "text/x-python",
   "name": "python",
   "nbconvert_exporter": "python",
   "pygments_lexer": "ipython3",
   "version": "3.6.0"
  }
 },
 "nbformat": 4,
 "nbformat_minor": 2
}

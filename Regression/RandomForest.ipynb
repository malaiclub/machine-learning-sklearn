{
 "cells": [
  {
   "cell_type": "code",
   "execution_count": 8,
   "metadata": {
    "collapsed": true
   },
   "outputs": [],
   "source": [
    "#Random Forest Regression\n",
    "#https://en.wikipedia.org/wiki/Random_forest"
   ]
  },
  {
   "cell_type": "code",
   "execution_count": 9,
   "metadata": {
    "collapsed": true
   },
   "outputs": [],
   "source": [
    "#Basic Requirements\n",
    "import numpy as np\n",
    "import matplotlib.pyplot as plt\n",
    "import pandas as pd"
   ]
  },
  {
   "cell_type": "code",
   "execution_count": 10,
   "metadata": {
    "collapsed": true
   },
   "outputs": [],
   "source": [
    "#Where's my data?\n",
    "data = pd.read_csv('winequality-red.csv')\n",
    "X = data.iloc[:, :-1]\n",
    "y = data.iloc[:, 11]"
   ]
  },
  {
   "cell_type": "code",
   "execution_count": 11,
   "metadata": {
    "collapsed": false
   },
   "outputs": [],
   "source": [
    "#Split into training and testing\n",
    "from sklearn.cross_validation import train_test_split\n",
    "X_train, X_test, y_train, y_test = train_test_split(X, y, test_size = 0.2, random_state = 0)"
   ]
  },
  {
   "cell_type": "code",
   "execution_count": 12,
   "metadata": {
    "collapsed": false
   },
   "outputs": [
    {
     "data": {
      "text/plain": [
       "RandomForestRegressor(bootstrap=True, criterion='mse', max_depth=None,\n",
       "           max_features='auto', max_leaf_nodes=None,\n",
       "           min_impurity_split=1e-07, min_samples_leaf=1,\n",
       "           min_samples_split=2, min_weight_fraction_leaf=0.0,\n",
       "           n_estimators=1000, n_jobs=1, oob_score=False, random_state=0,\n",
       "           verbose=0, warm_start=False)"
      ]
     },
     "execution_count": 12,
     "metadata": {},
     "output_type": "execute_result"
    }
   ],
   "source": [
    "#Train the Ninja\n",
    "from sklearn.ensemble import RandomForestRegressor\n",
    "r = RandomForestRegressor(n_estimators = 1000, random_state = 0)\n",
    "r.fit(X_train, y_train)"
   ]
  },
  {
   "cell_type": "code",
   "execution_count": 6,
   "metadata": {
    "collapsed": false
   },
   "outputs": [
    {
     "name": "stdout",
     "output_type": "stream",
     "text": [
      "[ 5.45   4.866  6.964  4.952  5.166  5.724  5.335  6.03   4.942  5.253\n",
      "  5.134  5.261  5.687  5.424  5.585  6.372  6.944  5.325  5.413  5.102\n",
      "  6.31   5.447  5.976  5.728  5.428  5.15   5.253  6.779  5.064  6.293\n",
      "  5.63   5.68   5.633  5.35   6.494  6.768  5.328  5.792  6.172  5.758\n",
      "  5.26   6.143  6.519  6.548  5.853  5.131  5.102  5.915  5.456  6.08\n",
      "  5.187  5.251  5.926  6.202  5.665  5.157  5.083  5.114  6.778  5.491\n",
      "  5.376  5.582  5.865  5.964  5.115  6.304  5.021  5.216  6.612  6.046\n",
      "  5.433  5.664  4.855  5.462  5.737  5.909  5.177  5.125  5.047  6.685\n",
      "  5.69   5.335  5.978  5.757  5.69   5.538  5.426  5.009  5.493  5.06\n",
      "  5.034  5.667  6.321  5.304  5.988  5.433  6.439  4.914  5.481  5.546\n",
      "  6.815  5.948  5.771  6.054  5.229  5.109  5.229  5.463  6.018  5.101\n",
      "  5.972  5.317  7.316  5.221  5.763  5.92   5.621  6.675  6.192  5.976\n",
      "  5.147  5.667  5.097  5.084  6.86   6.536  5.137  5.196  5.887  6.511\n",
      "  5.451  5.325  6.196  5.726  5.998  5.097  6.048  5.244  6.245  5.024\n",
      "  5.86   5.237  5.102  5.449  5.275  5.831  7.316  6.253  5.426  5.179\n",
      "  5.933  5.389  5.463  5.28   5.678  5.62   5.471  5.52   5.95   6.005\n",
      "  5.624  5.587  6.658  5.368  5.256  5.009  5.933  6.273  5.859  5.976\n",
      "  5.827  5.414  5.048  6.822  5.293  6.385  5.815  6.892  6.568  5.112\n",
      "  5.253  6.961  5.709  6.379  6.23   5.324  5.545  5.771  5.042  5.428\n",
      "  6.01   5.548  5.526  5.757  5.048  5.154  5.134  5.421  5.621  5.062\n",
      "  5.075  6.164  5.832  5.712  5.282  5.308  5.142  6.528  6.236  5.801\n",
      "  5.644  6.55   5.162  6.553  4.697  5.825  5.533  6.354  5.91   5.149\n",
      "  5.08   5.731  6.428  5.582  5.885  6.025  6.29   5.818  5.56   5.452\n",
      "  5.128  6.053  5.322  5.468  6.363  5.907  6.042  6.754  6.627  6.045\n",
      "  5.231  5.431  5.018  5.052  6.142  5.178  5.636  5.078  5.107  6.138\n",
      "  5.151  5.399  5.32   5.351  5.328  5.409  5.017  4.787  5.262  6.505\n",
      "  5.501  6.257  5.397  5.841  5.457  4.767  5.309  5.261  5.491  6.391\n",
      "  5.31   5.427  5.391  5.542  6.016  5.821  6.196  5.724  6.047  6.348\n",
      "  5.166  6.449  5.427  5.829  5.931  5.238  5.244  5.331  6.64   5.862\n",
      "  5.206  5.253  6.093  5.612  5.371  5.98   5.655  5.595  5.322  5.091\n",
      "  5.938  4.94   5.761  5.59   6.011  6.285  5.518  5.155  5.47   5.057\n",
      "  5.262  6.02   5.103  4.914  4.982  6.386  5.922  6.412  5.046  6.52 ]\n",
      "[ 5.  5.  7.  5.  5.  6.  5.  6.  5.  5.  5.  5.  6.  5.  6.  6.  7.  5.\n",
      "  5.  5.  6.  5.  6.  6.  5.  5.  5.  7.  5.  6.  6.  6.  6.  5.  6.  7.\n",
      "  5.  6.  6.  6.  5.  6.  7.  7.  6.  5.  5.  6.  5.  6.  5.  5.  6.  6.\n",
      "  6.  5.  5.  5.  7.  5.  5.  6.  6.  6.  5.  6.  5.  5.  7.  6.  5.  6.\n",
      "  5.  5.  6.  6.  5.  5.  5.  7.  6.  5.  6.  6.  6.  6.  5.  5.  5.  5.\n",
      "  5.  6.  6.  5.  6.  5.  6.  5.  5.  6.  7.  6.  6.  6.  5.  5.  5.  5.\n",
      "  6.  5.  6.  5.  7.  5.  6.  6.  6.  7.  6.  6.  5.  6.  5.  5.  7.  7.\n",
      "  5.  5.  6.  7.  5.  5.  6.  6.  6.  5.  6.  5.  6.  5.  6.  5.  5.  5.\n",
      "  5.  6.  7.  6.  5.  5.  6.  5.  5.  5.  6.  6.  5.  6.  6.  6.  6.  6.\n",
      "  7.  5.  5.  5.  6.  6.  6.  6.  6.  5.  5.  7.  5.  6.  6.  7.  7.  5.\n",
      "  5.  7.  6.  6.  6.  5.  6.  6.  5.  5.  6.  6.  6.  6.  5.  5.  5.  5.\n",
      "  6.  5.  5.  6.  6.  6.  5.  5.  5.  7.  6.  6.  6.  7.  5.  7.  5.  6.\n",
      "  6.  6.  6.  5.  5.  6.  6.  6.  6.  6.  6.  6.  6.  5.  5.  6.  5.  5.\n",
      "  6.  6.  6.  7.  7.  6.  5.  5.  5.  5.  6.  5.  6.  5.  5.  6.  5.  5.\n",
      "  5.  5.  5.  5.  5.  5.  5.  7.  6.  6.  5.  6.  5.  5.  5.  5.  5.  6.\n",
      "  5.  5.  5.  6.  6.  6.  6.  6.  6.  6.  5.  6.  5.  6.  6.  5.  5.  5.\n",
      "  7.  6.  5.  5.  6.  6.  5.  6.  6.  6.  5.  5.  6.  5.  6.  6.  6.  6.\n",
      "  6.  5.  5.  5.  5.  6.  5.  5.  5.  6.  6.  6.  5.  7.]\n"
     ]
    }
   ],
   "source": [
    "#Test the Ninja\n",
    "lr_y_pred = r.predict(X_test)\n",
    "print(lr_y_pred)\n",
    "\n",
    "#Round the results\n",
    "for i in range(len(lr_y_pred)):\n",
    "    lr_y_pred[i] = round(lr_y_pred[i])\n",
    "print(lr_y_pred)"
   ]
  },
  {
   "cell_type": "code",
   "execution_count": 7,
   "metadata": {
    "collapsed": false
   },
   "outputs": [
    {
     "name": "stdout",
     "output_type": "stream",
     "text": [
      "Total Length:  320\n",
      "Total right Predictions:  222\n"
     ]
    }
   ],
   "source": [
    "#Evaluate the Results\n",
    "def rightCheck(y_test2, lr_y_pred):\n",
    "    got_right = 0\n",
    "    for i in range(len(y_test)):\n",
    "        if(y_test2[i]==lr_y_pred[i]):\n",
    "            got_right = got_right + 1\n",
    "    return got_right\n",
    "            \n",
    "print(\"Total Length: \", len(y_test))\n",
    "print(\"Total right Predictions: \", rightCheck(y_test.values, lr_y_pred))"
   ]
  }
 ],
 "metadata": {
  "kernelspec": {
   "display_name": "Python 3",
   "language": "python",
   "name": "python3"
  },
  "language_info": {
   "codemirror_mode": {
    "name": "ipython",
    "version": 3
   },
   "file_extension": ".py",
   "mimetype": "text/x-python",
   "name": "python",
   "nbconvert_exporter": "python",
   "pygments_lexer": "ipython3",
   "version": "3.6.0"
  }
 },
 "nbformat": 4,
 "nbformat_minor": 2
}
